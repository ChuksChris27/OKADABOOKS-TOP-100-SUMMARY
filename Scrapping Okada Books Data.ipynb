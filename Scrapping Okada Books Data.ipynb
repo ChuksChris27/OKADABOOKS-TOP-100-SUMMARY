{
 "cells": [
  {
   "cell_type": "code",
   "execution_count": 1,
   "id": "8f5ed1f5",
   "metadata": {},
   "outputs": [],
   "source": [
    "import pandas as pd\n",
    "import numpy as np\n",
    "from bs4 import BeautifulSoup as bs\n",
    "import requests"
   ]
  },
  {
   "cell_type": "code",
   "execution_count": 8,
   "id": "fee14363",
   "metadata": {},
   "outputs": [
    {
     "name": "stdout",
     "output_type": "stream",
     "text": [
      "\n"
     ]
    },
    {
     "name": "stderr",
     "output_type": "stream",
     "text": [
      "C:\\Users\\CC\\AppData\\Local\\Temp\\ipykernel_9644\\3873272524.py:19: DeprecationWarning: executable_path has been deprecated, please pass in a Service object\n",
      "  driver = webdriver.Chrome(ChromeDriverManager().install())\n"
     ]
    }
   ],
   "source": [
    "# import selenium to scrape the dyanmic website\n",
    "from selenium import webdriver\n",
    "from selenium.webdriver.chrome.service import Service\n",
    "from webdriver_manager.chrome import ChromeDriverManager\n",
    "from selenium.webdriver.common.by import By\n",
    "from selenium.webdriver.support.ui import WebDriverWait\n",
    "from selenium.webdriver.support import expected_conditions as EC\n",
    "from selenium.webdriver.common.by import By\n",
    "import time\n",
    "\n",
    "\n",
    "from selenium.webdriver.common.action_chains import ActionChains\n",
    "\n",
    "from selenium.common.exceptions import TimeoutException\n",
    "from selenium.common.exceptions import NoSuchElementException\n",
    "from selenium.common.exceptions import ElementClickInterceptedException\n",
    "from selenium.common.exceptions import StaleElementReferenceException\n",
    "\n",
    "driver = webdriver.Chrome(ChromeDriverManager().install())\n",
    "driver.maximize_window()"
   ]
  },
  {
   "cell_type": "code",
   "execution_count": 9,
   "id": "9740b75b",
   "metadata": {},
   "outputs": [
    {
     "ename": "NoSuchElementException",
     "evalue": "Message: no such element: Unable to locate element: {\"method\":\"xpath\",\"selector\":\"//*[@id=\"best-sellers\"]/div[2]/div/div[2]/a\"}\n  (Session info: chrome=104.0.5112.81)\nStacktrace:\nBacktrace:\n\tOrdinal0 [0x011278B3+2193587]\n\tOrdinal0 [0x010C0681+1771137]\n\tOrdinal0 [0x00FD41A8+803240]\n\tOrdinal0 [0x010024A0+992416]\n\tOrdinal0 [0x0100273B+993083]\n\tOrdinal0 [0x0102F7C2+1177538]\n\tOrdinal0 [0x0101D7F4+1103860]\n\tOrdinal0 [0x0102DAE2+1170146]\n\tOrdinal0 [0x0101D5C6+1103302]\n\tOrdinal0 [0x00FF77E0+948192]\n\tOrdinal0 [0x00FF86E6+952038]\n\tGetHandleVerifier [0x013D0CB2+2738370]\n\tGetHandleVerifier [0x013C21B8+2678216]\n\tGetHandleVerifier [0x011B17AA+512954]\n\tGetHandleVerifier [0x011B0856+509030]\n\tOrdinal0 [0x010C743B+1799227]\n\tOrdinal0 [0x010CBB68+1817448]\n\tOrdinal0 [0x010CBC55+1817685]\n\tOrdinal0 [0x010D5230+1856048]\n\tBaseThreadInitThunk [0x77273744+36]\n\tRtlSetCurrentTransaction [0x778D9E54+212]\n\tRtlSetCurrentTransaction [0x778D9E1F+159]\n",
     "output_type": "error",
     "traceback": [
      "\u001b[1;31m---------------------------------------------------------------------------\u001b[0m",
      "\u001b[1;31mNoSuchElementException\u001b[0m                    Traceback (most recent call last)",
      "Input \u001b[1;32mIn [9]\u001b[0m, in \u001b[0;36m<cell line: 6>\u001b[1;34m()\u001b[0m\n\u001b[0;32m      8\u001b[0m     element_present \u001b[38;5;241m=\u001b[39m EC\u001b[38;5;241m.\u001b[39mpresence_of_element_located((By\u001b[38;5;241m.\u001b[39mXPATH, \u001b[38;5;124m'\u001b[39m\u001b[38;5;124m//*[@id=\u001b[39m\u001b[38;5;124m\"\u001b[39m\u001b[38;5;124mbest-sellers\u001b[39m\u001b[38;5;124m\"\u001b[39m\u001b[38;5;124m]/div[2]/div/div[2]/a\u001b[39m\u001b[38;5;124m'\u001b[39m))\n\u001b[0;32m      9\u001b[0m     WebDriverWait(driver, \u001b[38;5;241m10\u001b[39m)\u001b[38;5;241m.\u001b[39muntil(element_present)\n\u001b[1;32m---> 10\u001b[0m     btn \u001b[38;5;241m=\u001b[39m \u001b[43mdriver\u001b[49m\u001b[38;5;241;43m.\u001b[39;49m\u001b[43mfind_element\u001b[49m\u001b[43m(\u001b[49m\u001b[43mBy\u001b[49m\u001b[38;5;241;43m.\u001b[39;49m\u001b[43mXPATH\u001b[49m\u001b[43m,\u001b[49m\u001b[43m \u001b[49m\u001b[38;5;124;43m'\u001b[39;49m\u001b[38;5;124;43m//*[@id=\u001b[39;49m\u001b[38;5;124;43m\"\u001b[39;49m\u001b[38;5;124;43mbest-sellers\u001b[39;49m\u001b[38;5;124;43m\"\u001b[39;49m\u001b[38;5;124;43m]/div[2]/div/div[2]/a\u001b[39;49m\u001b[38;5;124;43m'\u001b[39;49m\u001b[43m)\u001b[49m\n\u001b[0;32m     11\u001b[0m     btn\u001b[38;5;241m.\u001b[39mclick()\n\u001b[0;32m     12\u001b[0m \u001b[38;5;28;01mexcept\u001b[39;00m ElementClickInterceptedException:     \n",
      "File \u001b[1;32m~\\anaconda3\\lib\\site-packages\\selenium\\webdriver\\remote\\webdriver.py:857\u001b[0m, in \u001b[0;36mWebDriver.find_element\u001b[1;34m(self, by, value)\u001b[0m\n\u001b[0;32m    854\u001b[0m     by \u001b[38;5;241m=\u001b[39m By\u001b[38;5;241m.\u001b[39mCSS_SELECTOR\n\u001b[0;32m    855\u001b[0m     value \u001b[38;5;241m=\u001b[39m \u001b[38;5;124m'\u001b[39m\u001b[38;5;124m[name=\u001b[39m\u001b[38;5;124m\"\u001b[39m\u001b[38;5;132;01m%s\u001b[39;00m\u001b[38;5;124m\"\u001b[39m\u001b[38;5;124m]\u001b[39m\u001b[38;5;124m'\u001b[39m \u001b[38;5;241m%\u001b[39m value\n\u001b[1;32m--> 857\u001b[0m \u001b[38;5;28;01mreturn\u001b[39;00m \u001b[38;5;28;43mself\u001b[39;49m\u001b[38;5;241;43m.\u001b[39;49m\u001b[43mexecute\u001b[49m\u001b[43m(\u001b[49m\u001b[43mCommand\u001b[49m\u001b[38;5;241;43m.\u001b[39;49m\u001b[43mFIND_ELEMENT\u001b[49m\u001b[43m,\u001b[49m\u001b[43m \u001b[49m\u001b[43m{\u001b[49m\n\u001b[0;32m    858\u001b[0m \u001b[43m    \u001b[49m\u001b[38;5;124;43m'\u001b[39;49m\u001b[38;5;124;43musing\u001b[39;49m\u001b[38;5;124;43m'\u001b[39;49m\u001b[43m:\u001b[49m\u001b[43m \u001b[49m\u001b[43mby\u001b[49m\u001b[43m,\u001b[49m\n\u001b[0;32m    859\u001b[0m \u001b[43m    \u001b[49m\u001b[38;5;124;43m'\u001b[39;49m\u001b[38;5;124;43mvalue\u001b[39;49m\u001b[38;5;124;43m'\u001b[39;49m\u001b[43m:\u001b[49m\u001b[43m \u001b[49m\u001b[43mvalue\u001b[49m\u001b[43m}\u001b[49m\u001b[43m)\u001b[49m[\u001b[38;5;124m'\u001b[39m\u001b[38;5;124mvalue\u001b[39m\u001b[38;5;124m'\u001b[39m]\n",
      "File \u001b[1;32m~\\anaconda3\\lib\\site-packages\\selenium\\webdriver\\remote\\webdriver.py:435\u001b[0m, in \u001b[0;36mWebDriver.execute\u001b[1;34m(self, driver_command, params)\u001b[0m\n\u001b[0;32m    433\u001b[0m response \u001b[38;5;241m=\u001b[39m \u001b[38;5;28mself\u001b[39m\u001b[38;5;241m.\u001b[39mcommand_executor\u001b[38;5;241m.\u001b[39mexecute(driver_command, params)\n\u001b[0;32m    434\u001b[0m \u001b[38;5;28;01mif\u001b[39;00m response:\n\u001b[1;32m--> 435\u001b[0m     \u001b[38;5;28;43mself\u001b[39;49m\u001b[38;5;241;43m.\u001b[39;49m\u001b[43merror_handler\u001b[49m\u001b[38;5;241;43m.\u001b[39;49m\u001b[43mcheck_response\u001b[49m\u001b[43m(\u001b[49m\u001b[43mresponse\u001b[49m\u001b[43m)\u001b[49m\n\u001b[0;32m    436\u001b[0m     response[\u001b[38;5;124m'\u001b[39m\u001b[38;5;124mvalue\u001b[39m\u001b[38;5;124m'\u001b[39m] \u001b[38;5;241m=\u001b[39m \u001b[38;5;28mself\u001b[39m\u001b[38;5;241m.\u001b[39m_unwrap_value(\n\u001b[0;32m    437\u001b[0m         response\u001b[38;5;241m.\u001b[39mget(\u001b[38;5;124m'\u001b[39m\u001b[38;5;124mvalue\u001b[39m\u001b[38;5;124m'\u001b[39m, \u001b[38;5;28;01mNone\u001b[39;00m))\n\u001b[0;32m    438\u001b[0m     \u001b[38;5;28;01mreturn\u001b[39;00m response\n",
      "File \u001b[1;32m~\\anaconda3\\lib\\site-packages\\selenium\\webdriver\\remote\\errorhandler.py:247\u001b[0m, in \u001b[0;36mErrorHandler.check_response\u001b[1;34m(self, response)\u001b[0m\n\u001b[0;32m    245\u001b[0m         alert_text \u001b[38;5;241m=\u001b[39m value[\u001b[38;5;124m'\u001b[39m\u001b[38;5;124malert\u001b[39m\u001b[38;5;124m'\u001b[39m]\u001b[38;5;241m.\u001b[39mget(\u001b[38;5;124m'\u001b[39m\u001b[38;5;124mtext\u001b[39m\u001b[38;5;124m'\u001b[39m)\n\u001b[0;32m    246\u001b[0m     \u001b[38;5;28;01mraise\u001b[39;00m exception_class(message, screen, stacktrace, alert_text)  \u001b[38;5;66;03m# type: ignore[call-arg]  # mypy is not smart enough here\u001b[39;00m\n\u001b[1;32m--> 247\u001b[0m \u001b[38;5;28;01mraise\u001b[39;00m exception_class(message, screen, stacktrace)\n",
      "\u001b[1;31mNoSuchElementException\u001b[0m: Message: no such element: Unable to locate element: {\"method\":\"xpath\",\"selector\":\"//*[@id=\"best-sellers\"]/div[2]/div/div[2]/a\"}\n  (Session info: chrome=104.0.5112.81)\nStacktrace:\nBacktrace:\n\tOrdinal0 [0x011278B3+2193587]\n\tOrdinal0 [0x010C0681+1771137]\n\tOrdinal0 [0x00FD41A8+803240]\n\tOrdinal0 [0x010024A0+992416]\n\tOrdinal0 [0x0100273B+993083]\n\tOrdinal0 [0x0102F7C2+1177538]\n\tOrdinal0 [0x0101D7F4+1103860]\n\tOrdinal0 [0x0102DAE2+1170146]\n\tOrdinal0 [0x0101D5C6+1103302]\n\tOrdinal0 [0x00FF77E0+948192]\n\tOrdinal0 [0x00FF86E6+952038]\n\tGetHandleVerifier [0x013D0CB2+2738370]\n\tGetHandleVerifier [0x013C21B8+2678216]\n\tGetHandleVerifier [0x011B17AA+512954]\n\tGetHandleVerifier [0x011B0856+509030]\n\tOrdinal0 [0x010C743B+1799227]\n\tOrdinal0 [0x010CBB68+1817448]\n\tOrdinal0 [0x010CBC55+1817685]\n\tOrdinal0 [0x010D5230+1856048]\n\tBaseThreadInitThunk [0x77273744+36]\n\tRtlSetCurrentTransaction [0x778D9E54+212]\n\tRtlSetCurrentTransaction [0x778D9E1F+159]\n"
     ]
    }
   ],
   "source": [
    "#set url\n",
    "url = 'https://okadabooks.com/store/best-sellers'\n",
    "driver.get(url)\n",
    "# keep clicking as long as there is something to click\n",
    "while True:\n",
    "    time.sleep(3)\n",
    "    try:\n",
    "        element_present = EC.presence_of_element_located((By.XPATH, '//*[@id=\"best-sellers\"]/div[2]/div/div[2]/a'))\n",
    "        WebDriverWait(driver, 10).until(element_present)\n",
    "        btn = driver.find_element(By.XPATH, '//*[@id=\"best-sellers\"]/div[2]/div/div[2]/a')\n",
    "        btn.click()\n",
    "    except ElementClickInterceptedException:     \n",
    "        ActionChains(driver).move_to_element(btn).click().perform()\n",
    "    except TimeoutException:\n",
    "        print(\"Timeout exception\")\n",
    "        break"
   ]
  },
  {
   "cell_type": "code",
   "execution_count": 10,
   "id": "7251abda",
   "metadata": {},
   "outputs": [],
   "source": [
    "#parse the source from driver to beautiful soup\n",
    "source = driver.page_source\n",
    "soup = bs(source,'lxml')"
   ]
  },
  {
   "cell_type": "code",
   "execution_count": 11,
   "id": "2b34afc4",
   "metadata": {},
   "outputs": [
    {
     "data": {
      "text/plain": [
       "1"
      ]
     },
     "execution_count": 11,
     "metadata": {},
     "output_type": "execute_result"
    }
   ],
   "source": [
    "len(soup)"
   ]
  },
  {
   "cell_type": "code",
   "execution_count": 12,
   "id": "09ecdf8f",
   "metadata": {},
   "outputs": [],
   "source": [
    "# get all the book links, prices and indexes\n",
    "# create a function\n",
    "links = []\n",
    "listings = soup.find_all(class_ =\"d-flex\") # use beautifulsoup find_all\n",
    "for listing in listings:\n",
    "    bk_link = listing.find('a')['href']\n",
    "    base= 'https://okadabooks.com'\n",
    "    full_link = base + bk_link\n",
    "    links.append(full_link) #append to empty lists"
   ]
  },
  {
   "cell_type": "code",
   "execution_count": 14,
   "id": "c94cf533",
   "metadata": {},
   "outputs": [],
   "source": [
    "# loop for prices\n",
    "p = []\n",
    "prices = soup.find_all(\"div\", class_=\"mini__book-card\")\n",
    "for price in prices:\n",
    "    k = price.find('span', class_ ='price').getText()\n",
    "    bk = {'prices':k}\n",
    "    p.append(bk)\n",
    "\n",
    "col = ['prices']\n",
    "price=pd.DataFrame(p,columns=col)"
   ]
  },
  {
   "cell_type": "code",
   "execution_count": 15,
   "id": "172258a6",
   "metadata": {},
   "outputs": [],
   "source": [
    "#write price to csv\n",
    "price.to_csv('price.csv',index=False, encoding='utf-8')"
   ]
  },
  {
   "cell_type": "code",
   "execution_count": 16,
   "id": "5fa0a979",
   "metadata": {},
   "outputs": [],
   "source": [
    "#loop for indexes\n",
    "i = []\n",
    "indexes = soup.find_all('div', class_=\"d-md-flex position-box\")\n",
    "for index in indexes:\n",
    "    l = index.find('span').getText()\n",
    "    inde = {'indexes':l}\n",
    "    i.append(inde)\n",
    "\n",
    "col = ['indexes']\n",
    "indexess=pd.DataFrame(i,columns=col)"
   ]
  },
  {
   "cell_type": "code",
   "execution_count": 17,
   "id": "09853ef5",
   "metadata": {},
   "outputs": [],
   "source": [
    "#write index to csv\n",
    "indexess.to_csv('index.csv',index=False, encoding='utf-8')"
   ]
  },
  {
   "cell_type": "code",
   "execution_count": 18,
   "id": "373e1612",
   "metadata": {},
   "outputs": [],
   "source": [
    "#loop for link column still using the link cell\n",
    "lint = []\n",
    "listings = soup.find_all(class_ =\"d-flex\") # use beautifulsoup find_all\n",
    "for listing in listings:\n",
    "    bk_link = listing.find('a')['href']\n",
    "    base= 'https://okadabooks.com'\n",
    "    full_link = base + bk_link\n",
    "    lint.append(full_link) #append to empty lists\n",
    "    \n",
    "col = ['site']\n",
    "sites=pd.DataFrame(lint,columns=col)"
   ]
  },
  {
   "cell_type": "code",
   "execution_count": 19,
   "id": "774913c9",
   "metadata": {},
   "outputs": [],
   "source": [
    "#write links to csv\n",
    "sites.to_csv('links.csv',index=False, encoding='utf-8')"
   ]
  },
  {
   "cell_type": "code",
   "execution_count": 20,
   "id": "527b7cad",
   "metadata": {},
   "outputs": [
    {
     "name": "stdout",
     "output_type": "stream",
     "text": [
      "2480\n",
      "2480\n",
      "2480\n",
      "2480\n"
     ]
    }
   ],
   "source": [
    "# check length of set\n",
    "print(len(links))\n",
    "print(len(price))\n",
    "print(len(indexess))\n",
    "print(len(sites))"
   ]
  },
  {
   "cell_type": "code",
   "execution_count": 23,
   "id": "67adacc4",
   "metadata": {},
   "outputs": [],
   "source": [
    "#create an empty list to store all books\n",
    "okada_books = []\n",
    "# set column list\n",
    "col = ['title','author','ratings','download_count']\n",
    "# create a for loop to iterate through the links and get key columns\n",
    "for link in links:\n",
    "    req = requests.get(link).text\n",
    "    book_soup = bs(req, 'html.parser')\n",
    "    title = book_soup.find('title').text\n",
    "    author = book_soup.find('strong').text\n",
    "    ratings = book_soup.find('div', class_='engagement-stats d-flex justify-content-between').find('span').text.strip()\n",
    "    download_count = book_soup.find('div', class_='engagement-stats d-flex justify-content-between').find(title=\"Download Count\").text.strip()\n",
    "    #print(title,author,ratings,download_count)\n",
    "    #break\n",
    "    \n",
    "    book = {'title':title, 'author':author, 'ratings':ratings, 'download_count':download_count}\n",
    "    okada_books.append(book) #append to empty list\n",
    "\n",
    "# write to pandas dataframe\n",
    "df = pd.DataFrame(okada_books, columns=col)"
   ]
  },
  {
   "cell_type": "code",
   "execution_count": 24,
   "id": "8697ed0f",
   "metadata": {},
   "outputs": [],
   "source": [
    "# write to csv file\n",
    "df.to_csv('okada_bk.csv', index =False, encoding='Utf-8')"
   ]
  }
 ],
 "metadata": {
  "kernelspec": {
   "display_name": "Python 3 (ipykernel)",
   "language": "python",
   "name": "python3"
  },
  "language_info": {
   "codemirror_mode": {
    "name": "ipython",
    "version": 3
   },
   "file_extension": ".py",
   "mimetype": "text/x-python",
   "name": "python",
   "nbconvert_exporter": "python",
   "pygments_lexer": "ipython3",
   "version": "3.9.12"
  }
 },
 "nbformat": 4,
 "nbformat_minor": 5
}
