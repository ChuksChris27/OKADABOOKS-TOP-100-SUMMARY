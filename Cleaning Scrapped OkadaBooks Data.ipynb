{
 "cells": [
  {
   "cell_type": "code",
   "execution_count": 1,
   "id": "8b755f78",
   "metadata": {},
   "outputs": [],
   "source": [
    "#import libraries\n",
    "import pandas as pd\n",
    "import numpy as np\n",
    "import seaborn as sb\n",
    "from matplotlib import pyplot as plt\n",
    "\n",
    "%matplotlib inline"
   ]
  },
  {
   "cell_type": "code",
   "execution_count": 2,
   "id": "31dc521e",
   "metadata": {},
   "outputs": [
    {
     "data": {
      "text/html": [
       "<div>\n",
       "<style scoped>\n",
       "    .dataframe tbody tr th:only-of-type {\n",
       "        vertical-align: middle;\n",
       "    }\n",
       "\n",
       "    .dataframe tbody tr th {\n",
       "        vertical-align: top;\n",
       "    }\n",
       "\n",
       "    .dataframe thead th {\n",
       "        text-align: right;\n",
       "    }\n",
       "</style>\n",
       "<table border=\"1\" class=\"dataframe\">\n",
       "  <thead>\n",
       "    <tr style=\"text-align: right;\">\n",
       "      <th></th>\n",
       "      <th>title</th>\n",
       "      <th>author</th>\n",
       "      <th>ratings</th>\n",
       "      <th>download_count</th>\n",
       "    </tr>\n",
       "  </thead>\n",
       "  <tbody>\n",
       "    <tr>\n",
       "      <th>0</th>\n",
       "      <td>Running On Waters by Esther Nnabuife | OkadaBooks</td>\n",
       "      <td>Esther Nnabuife</td>\n",
       "      <td>4.73</td>\n",
       "      <td>32</td>\n",
       "    </tr>\n",
       "    <tr>\n",
       "      <th>1</th>\n",
       "      <td>Can I Be Your Mrs? by Aishatuh M | OkadaBooks</td>\n",
       "      <td>Aishatuh M</td>\n",
       "      <td>0.00</td>\n",
       "      <td>16</td>\n",
       "    </tr>\n",
       "    <tr>\n",
       "      <th>2</th>\n",
       "      <td>PURPOSE IN CRISIS: Uncommon secrets to finding...</td>\n",
       "      <td>Dr Samuel Ekundayo</td>\n",
       "      <td>5.00</td>\n",
       "      <td>84</td>\n",
       "    </tr>\n",
       "    <tr>\n",
       "      <th>3</th>\n",
       "      <td>Magajin Wilbafos Book 7: Chapter 725-729 (Fome...</td>\n",
       "      <td>Abdullahi Muhammad</td>\n",
       "      <td>4.00</td>\n",
       "      <td>16</td>\n",
       "    </tr>\n",
       "    <tr>\n",
       "      <th>4</th>\n",
       "      <td>Simi's Return: A J-Town Romance by Sharon DF |...</td>\n",
       "      <td>Sharon DF</td>\n",
       "      <td>2.50</td>\n",
       "      <td>53</td>\n",
       "    </tr>\n",
       "  </tbody>\n",
       "</table>\n",
       "</div>"
      ],
      "text/plain": [
       "                                               title              author  \\\n",
       "0  Running On Waters by Esther Nnabuife | OkadaBooks     Esther Nnabuife   \n",
       "1      Can I Be Your Mrs? by Aishatuh M | OkadaBooks          Aishatuh M   \n",
       "2  PURPOSE IN CRISIS: Uncommon secrets to finding...  Dr Samuel Ekundayo   \n",
       "3  Magajin Wilbafos Book 7: Chapter 725-729 (Fome...  Abdullahi Muhammad   \n",
       "4  Simi's Return: A J-Town Romance by Sharon DF |...           Sharon DF   \n",
       "\n",
       "   ratings  download_count  \n",
       "0     4.73              32  \n",
       "1     0.00              16  \n",
       "2     5.00              84  \n",
       "3     4.00              16  \n",
       "4     2.50              53  "
      ]
     },
     "execution_count": 2,
     "metadata": {},
     "output_type": "execute_result"
    }
   ],
   "source": [
    "#read first data\n",
    "df1 = pd.read_csv('okada_bk.csv')\n",
    "df1.head()"
   ]
  },
  {
   "cell_type": "code",
   "execution_count": 3,
   "id": "18a85a1f",
   "metadata": {},
   "outputs": [
    {
     "data": {
      "text/html": [
       "<div>\n",
       "<style scoped>\n",
       "    .dataframe tbody tr th:only-of-type {\n",
       "        vertical-align: middle;\n",
       "    }\n",
       "\n",
       "    .dataframe tbody tr th {\n",
       "        vertical-align: top;\n",
       "    }\n",
       "\n",
       "    .dataframe thead th {\n",
       "        text-align: right;\n",
       "    }\n",
       "</style>\n",
       "<table border=\"1\" class=\"dataframe\">\n",
       "  <thead>\n",
       "    <tr style=\"text-align: right;\">\n",
       "      <th></th>\n",
       "      <th>prices</th>\n",
       "    </tr>\n",
       "  </thead>\n",
       "  <tbody>\n",
       "    <tr>\n",
       "      <th>0</th>\n",
       "      <td>₦1000.00</td>\n",
       "    </tr>\n",
       "    <tr>\n",
       "      <th>1</th>\n",
       "      <td>₦1500.00</td>\n",
       "    </tr>\n",
       "    <tr>\n",
       "      <th>2</th>\n",
       "      <td>₦1500.00</td>\n",
       "    </tr>\n",
       "    <tr>\n",
       "      <th>3</th>\n",
       "      <td>₦200.00</td>\n",
       "    </tr>\n",
       "    <tr>\n",
       "      <th>4</th>\n",
       "      <td>₦100.00</td>\n",
       "    </tr>\n",
       "  </tbody>\n",
       "</table>\n",
       "</div>"
      ],
      "text/plain": [
       "     prices\n",
       "0  ₦1000.00\n",
       "1  ₦1500.00\n",
       "2  ₦1500.00\n",
       "3   ₦200.00\n",
       "4   ₦100.00"
      ]
     },
     "execution_count": 3,
     "metadata": {},
     "output_type": "execute_result"
    }
   ],
   "source": [
    "#read price data\n",
    "df2=pd.read_csv('price.csv')\n",
    "df2.head()"
   ]
  },
  {
   "cell_type": "code",
   "execution_count": 4,
   "id": "eceed637",
   "metadata": {},
   "outputs": [
    {
     "data": {
      "text/html": [
       "<div>\n",
       "<style scoped>\n",
       "    .dataframe tbody tr th:only-of-type {\n",
       "        vertical-align: middle;\n",
       "    }\n",
       "\n",
       "    .dataframe tbody tr th {\n",
       "        vertical-align: top;\n",
       "    }\n",
       "\n",
       "    .dataframe thead th {\n",
       "        text-align: right;\n",
       "    }\n",
       "</style>\n",
       "<table border=\"1\" class=\"dataframe\">\n",
       "  <thead>\n",
       "    <tr style=\"text-align: right;\">\n",
       "      <th></th>\n",
       "      <th>indexes</th>\n",
       "    </tr>\n",
       "  </thead>\n",
       "  <tbody>\n",
       "    <tr>\n",
       "      <th>0</th>\n",
       "      <td>#1</td>\n",
       "    </tr>\n",
       "    <tr>\n",
       "      <th>1</th>\n",
       "      <td>#2</td>\n",
       "    </tr>\n",
       "    <tr>\n",
       "      <th>2</th>\n",
       "      <td>#3</td>\n",
       "    </tr>\n",
       "    <tr>\n",
       "      <th>3</th>\n",
       "      <td>#4</td>\n",
       "    </tr>\n",
       "    <tr>\n",
       "      <th>4</th>\n",
       "      <td>#5</td>\n",
       "    </tr>\n",
       "  </tbody>\n",
       "</table>\n",
       "</div>"
      ],
      "text/plain": [
       "  indexes\n",
       "0      #1\n",
       "1      #2\n",
       "2      #3\n",
       "3      #4\n",
       "4      #5"
      ]
     },
     "execution_count": 4,
     "metadata": {},
     "output_type": "execute_result"
    }
   ],
   "source": [
    "#read index data\n",
    "df3 = pd.read_csv('index.csv')\n",
    "df3.head()"
   ]
  },
  {
   "cell_type": "code",
   "execution_count": 5,
   "id": "48257360",
   "metadata": {},
   "outputs": [
    {
     "data": {
      "text/html": [
       "<div>\n",
       "<style scoped>\n",
       "    .dataframe tbody tr th:only-of-type {\n",
       "        vertical-align: middle;\n",
       "    }\n",
       "\n",
       "    .dataframe tbody tr th {\n",
       "        vertical-align: top;\n",
       "    }\n",
       "\n",
       "    .dataframe thead th {\n",
       "        text-align: right;\n",
       "    }\n",
       "</style>\n",
       "<table border=\"1\" class=\"dataframe\">\n",
       "  <thead>\n",
       "    <tr style=\"text-align: right;\">\n",
       "      <th></th>\n",
       "      <th>site</th>\n",
       "    </tr>\n",
       "  </thead>\n",
       "  <tbody>\n",
       "    <tr>\n",
       "      <th>0</th>\n",
       "      <td>https://okadabooks.com/book/about/running_on_w...</td>\n",
       "    </tr>\n",
       "    <tr>\n",
       "      <th>1</th>\n",
       "      <td>https://okadabooks.com/book/about/can_i_be_you...</td>\n",
       "    </tr>\n",
       "    <tr>\n",
       "      <th>2</th>\n",
       "      <td>https://okadabooks.com/book/about/purpose_in_c...</td>\n",
       "    </tr>\n",
       "    <tr>\n",
       "      <th>3</th>\n",
       "      <td>https://okadabooks.com/book/about/magajin_wilb...</td>\n",
       "    </tr>\n",
       "    <tr>\n",
       "      <th>4</th>\n",
       "      <td>https://okadabooks.com/book/about/simi_s_retur...</td>\n",
       "    </tr>\n",
       "  </tbody>\n",
       "</table>\n",
       "</div>"
      ],
      "text/plain": [
       "                                                site\n",
       "0  https://okadabooks.com/book/about/running_on_w...\n",
       "1  https://okadabooks.com/book/about/can_i_be_you...\n",
       "2  https://okadabooks.com/book/about/purpose_in_c...\n",
       "3  https://okadabooks.com/book/about/magajin_wilb...\n",
       "4  https://okadabooks.com/book/about/simi_s_retur..."
      ]
     },
     "execution_count": 5,
     "metadata": {},
     "output_type": "execute_result"
    }
   ],
   "source": [
    "#read links data\n",
    "df4 = pd.read_csv('links.csv')\n",
    "df4.head()"
   ]
  },
  {
   "cell_type": "code",
   "execution_count": 6,
   "id": "967197c8",
   "metadata": {},
   "outputs": [
    {
     "data": {
      "text/plain": [
       "(2480, 7)"
      ]
     },
     "execution_count": 6,
     "metadata": {},
     "output_type": "execute_result"
    }
   ],
   "source": [
    "#concatenate all tables because they don't have common column for merging\n",
    "tables = [df1,df2,df3,df4]\n",
    "okada_master = pd.concat(tables, axis=1)\n",
    "okada_master.shape"
   ]
  },
  {
   "cell_type": "code",
   "execution_count": 7,
   "id": "381816f3",
   "metadata": {},
   "outputs": [
    {
     "data": {
      "text/plain": [
       "Index(['title', 'author', 'ratings', 'download_count', 'prices', 'indexes',\n",
       "       'site'],\n",
       "      dtype='object')"
      ]
     },
     "execution_count": 7,
     "metadata": {},
     "output_type": "execute_result"
    }
   ],
   "source": [
    "#check the columns\n",
    "okada_master.columns"
   ]
  },
  {
   "cell_type": "code",
   "execution_count": 8,
   "id": "44b88d7c",
   "metadata": {},
   "outputs": [],
   "source": [
    "#reindex the column in order of preferred choice\n",
    "column = ['indexes', 'title', 'author', 'ratings', 'prices', 'download_count', 'site']\n",
    "okada_master = okada_master.reindex(columns=column)"
   ]
  },
  {
   "cell_type": "code",
   "execution_count": 9,
   "id": "b5bd482c",
   "metadata": {},
   "outputs": [
    {
     "data": {
      "text/html": [
       "<div>\n",
       "<style scoped>\n",
       "    .dataframe tbody tr th:only-of-type {\n",
       "        vertical-align: middle;\n",
       "    }\n",
       "\n",
       "    .dataframe tbody tr th {\n",
       "        vertical-align: top;\n",
       "    }\n",
       "\n",
       "    .dataframe thead th {\n",
       "        text-align: right;\n",
       "    }\n",
       "</style>\n",
       "<table border=\"1\" class=\"dataframe\">\n",
       "  <thead>\n",
       "    <tr style=\"text-align: right;\">\n",
       "      <th></th>\n",
       "      <th>indexes</th>\n",
       "      <th>title</th>\n",
       "      <th>author</th>\n",
       "      <th>ratings</th>\n",
       "      <th>prices</th>\n",
       "      <th>download_count</th>\n",
       "      <th>site</th>\n",
       "    </tr>\n",
       "  </thead>\n",
       "  <tbody>\n",
       "    <tr>\n",
       "      <th>0</th>\n",
       "      <td>#1</td>\n",
       "      <td>Running On Waters by Esther Nnabuife | OkadaBooks</td>\n",
       "      <td>Esther Nnabuife</td>\n",
       "      <td>4.73</td>\n",
       "      <td>₦1000.00</td>\n",
       "      <td>32</td>\n",
       "      <td>https://okadabooks.com/book/about/running_on_w...</td>\n",
       "    </tr>\n",
       "    <tr>\n",
       "      <th>1</th>\n",
       "      <td>#2</td>\n",
       "      <td>Can I Be Your Mrs? by Aishatuh M | OkadaBooks</td>\n",
       "      <td>Aishatuh M</td>\n",
       "      <td>0.00</td>\n",
       "      <td>₦1500.00</td>\n",
       "      <td>16</td>\n",
       "      <td>https://okadabooks.com/book/about/can_i_be_you...</td>\n",
       "    </tr>\n",
       "    <tr>\n",
       "      <th>2</th>\n",
       "      <td>#3</td>\n",
       "      <td>PURPOSE IN CRISIS: Uncommon secrets to finding...</td>\n",
       "      <td>Dr Samuel Ekundayo</td>\n",
       "      <td>5.00</td>\n",
       "      <td>₦1500.00</td>\n",
       "      <td>84</td>\n",
       "      <td>https://okadabooks.com/book/about/purpose_in_c...</td>\n",
       "    </tr>\n",
       "    <tr>\n",
       "      <th>3</th>\n",
       "      <td>#4</td>\n",
       "      <td>Magajin Wilbafos Book 7: Chapter 725-729 (Fome...</td>\n",
       "      <td>Abdullahi Muhammad</td>\n",
       "      <td>4.00</td>\n",
       "      <td>₦200.00</td>\n",
       "      <td>16</td>\n",
       "      <td>https://okadabooks.com/book/about/magajin_wilb...</td>\n",
       "    </tr>\n",
       "    <tr>\n",
       "      <th>4</th>\n",
       "      <td>#5</td>\n",
       "      <td>Simi's Return: A J-Town Romance by Sharon DF |...</td>\n",
       "      <td>Sharon DF</td>\n",
       "      <td>2.50</td>\n",
       "      <td>₦100.00</td>\n",
       "      <td>53</td>\n",
       "      <td>https://okadabooks.com/book/about/simi_s_retur...</td>\n",
       "    </tr>\n",
       "    <tr>\n",
       "      <th>...</th>\n",
       "      <td>...</td>\n",
       "      <td>...</td>\n",
       "      <td>...</td>\n",
       "      <td>...</td>\n",
       "      <td>...</td>\n",
       "      <td>...</td>\n",
       "      <td>...</td>\n",
       "    </tr>\n",
       "    <tr>\n",
       "      <th>95</th>\n",
       "      <td>#96</td>\n",
       "      <td>Stuck in a Nightmare by Joshua Orioko | OkadaB...</td>\n",
       "      <td>Joshua Orioko</td>\n",
       "      <td>4.25</td>\n",
       "      <td>₦800.00</td>\n",
       "      <td>9</td>\n",
       "      <td>https://okadabooks.com/book/about/stuck_in_a_n...</td>\n",
       "    </tr>\n",
       "    <tr>\n",
       "      <th>96</th>\n",
       "      <td>#97</td>\n",
       "      <td>God, Michael and Me by Rosemary Okafor | Okada...</td>\n",
       "      <td>Rosemary Okafor</td>\n",
       "      <td>5.00</td>\n",
       "      <td>₦800.00</td>\n",
       "      <td>27</td>\n",
       "      <td>https://okadabooks.com/book/about/god_michael_...</td>\n",
       "    </tr>\n",
       "    <tr>\n",
       "      <th>97</th>\n",
       "      <td>#98</td>\n",
       "      <td>HOW TO KNOW IF/SHE REALLY LOVES YOU by Kingsle...</td>\n",
       "      <td>Kingsley Okonkwo</td>\n",
       "      <td>5.00</td>\n",
       "      <td>₦3500.00</td>\n",
       "      <td>9</td>\n",
       "      <td>https://okadabooks.com/book/about/how_to_know_...</td>\n",
       "    </tr>\n",
       "    <tr>\n",
       "      <th>98</th>\n",
       "      <td>#99</td>\n",
       "      <td>NA HUCE 1 by Sumayya Abdulkadir | OkadaBooks</td>\n",
       "      <td>Sumayya Abdulkadir</td>\n",
       "      <td>5.00</td>\n",
       "      <td>₦500.00</td>\n",
       "      <td>55</td>\n",
       "      <td>https://okadabooks.com/book/about/na_huce_1/48401</td>\n",
       "    </tr>\n",
       "    <tr>\n",
       "      <th>99</th>\n",
       "      <td>#100</td>\n",
       "      <td>NA HUCE 2 by Sumayya Abdulkadir | OkadaBooks</td>\n",
       "      <td>Sumayya Abdulkadir</td>\n",
       "      <td>4.00</td>\n",
       "      <td>₦500.00</td>\n",
       "      <td>45</td>\n",
       "      <td>https://okadabooks.com/book/about/na_huce_2/48402</td>\n",
       "    </tr>\n",
       "  </tbody>\n",
       "</table>\n",
       "<p>100 rows × 7 columns</p>\n",
       "</div>"
      ],
      "text/plain": [
       "   indexes                                              title  \\\n",
       "0       #1  Running On Waters by Esther Nnabuife | OkadaBooks   \n",
       "1       #2      Can I Be Your Mrs? by Aishatuh M | OkadaBooks   \n",
       "2       #3  PURPOSE IN CRISIS: Uncommon secrets to finding...   \n",
       "3       #4  Magajin Wilbafos Book 7: Chapter 725-729 (Fome...   \n",
       "4       #5  Simi's Return: A J-Town Romance by Sharon DF |...   \n",
       "..     ...                                                ...   \n",
       "95     #96  Stuck in a Nightmare by Joshua Orioko | OkadaB...   \n",
       "96     #97  God, Michael and Me by Rosemary Okafor | Okada...   \n",
       "97     #98  HOW TO KNOW IF/SHE REALLY LOVES YOU by Kingsle...   \n",
       "98     #99       NA HUCE 1 by Sumayya Abdulkadir | OkadaBooks   \n",
       "99    #100       NA HUCE 2 by Sumayya Abdulkadir | OkadaBooks   \n",
       "\n",
       "                author  ratings    prices  download_count  \\\n",
       "0      Esther Nnabuife     4.73  ₦1000.00              32   \n",
       "1           Aishatuh M     0.00  ₦1500.00              16   \n",
       "2   Dr Samuel Ekundayo     5.00  ₦1500.00              84   \n",
       "3   Abdullahi Muhammad     4.00   ₦200.00              16   \n",
       "4            Sharon DF     2.50   ₦100.00              53   \n",
       "..                 ...      ...       ...             ...   \n",
       "95       Joshua Orioko     4.25   ₦800.00               9   \n",
       "96     Rosemary Okafor     5.00   ₦800.00              27   \n",
       "97    Kingsley Okonkwo     5.00  ₦3500.00               9   \n",
       "98  Sumayya Abdulkadir     5.00   ₦500.00              55   \n",
       "99  Sumayya Abdulkadir     4.00   ₦500.00              45   \n",
       "\n",
       "                                                 site  \n",
       "0   https://okadabooks.com/book/about/running_on_w...  \n",
       "1   https://okadabooks.com/book/about/can_i_be_you...  \n",
       "2   https://okadabooks.com/book/about/purpose_in_c...  \n",
       "3   https://okadabooks.com/book/about/magajin_wilb...  \n",
       "4   https://okadabooks.com/book/about/simi_s_retur...  \n",
       "..                                                ...  \n",
       "95  https://okadabooks.com/book/about/stuck_in_a_n...  \n",
       "96  https://okadabooks.com/book/about/god_michael_...  \n",
       "97  https://okadabooks.com/book/about/how_to_know_...  \n",
       "98  https://okadabooks.com/book/about/na_huce_1/48401  \n",
       "99  https://okadabooks.com/book/about/na_huce_2/48402  \n",
       "\n",
       "[100 rows x 7 columns]"
      ]
     },
     "execution_count": 9,
     "metadata": {},
     "output_type": "execute_result"
    }
   ],
   "source": [
    "#subset first 100 rows\n",
    "okada = okada_master[0:100]\n",
    "okada"
   ]
  },
  {
   "cell_type": "code",
   "execution_count": 10,
   "id": "b5fa52f2",
   "metadata": {},
   "outputs": [],
   "source": [
    "#write the concat table to csv\n",
    "okada_master.to_csv('okada_b.csv', index=True, encoding='utf-8')"
   ]
  },
  {
   "cell_type": "code",
   "execution_count": 11,
   "id": "b2da2079",
   "metadata": {},
   "outputs": [],
   "source": [
    "#write the final table to csv\n",
    "okada.to_csv('okada_a.csv', index=True, encoding='utf-8')"
   ]
  },
  {
   "cell_type": "markdown",
   "id": "e459e8f9",
   "metadata": {},
   "source": [
    "# Data Cleaning Process"
   ]
  },
  {
   "cell_type": "code",
   "execution_count": 12,
   "id": "0168d941",
   "metadata": {},
   "outputs": [
    {
     "name": "stdout",
     "output_type": "stream",
     "text": [
      "<class 'pandas.core.frame.DataFrame'>\n",
      "RangeIndex: 100 entries, 0 to 99\n",
      "Data columns (total 7 columns):\n",
      " #   Column          Non-Null Count  Dtype  \n",
      "---  ------          --------------  -----  \n",
      " 0   indexes         100 non-null    object \n",
      " 1   title           100 non-null    object \n",
      " 2   author          100 non-null    object \n",
      " 3   ratings         100 non-null    float64\n",
      " 4   prices          100 non-null    object \n",
      " 5   download_count  100 non-null    int64  \n",
      " 6   site            100 non-null    object \n",
      "dtypes: float64(1), int64(1), object(5)\n",
      "memory usage: 5.6+ KB\n"
     ]
    }
   ],
   "source": [
    "#check info\n",
    "okada.info()"
   ]
  },
  {
   "cell_type": "code",
   "execution_count": 13,
   "id": "67c1da10",
   "metadata": {
    "scrolled": true
   },
   "outputs": [
    {
     "data": {
      "text/plain": [
       "0        Esther Nnabuife\n",
       "1             Aishatuh M\n",
       "2     Dr Samuel Ekundayo\n",
       "3     Abdullahi Muhammad\n",
       "4              Sharon DF\n",
       "             ...        \n",
       "95         Joshua Orioko\n",
       "96       Rosemary Okafor\n",
       "97      Kingsley Okonkwo\n",
       "98    Sumayya Abdulkadir\n",
       "99    Sumayya Abdulkadir\n",
       "Name: author, Length: 100, dtype: object"
      ]
     },
     "execution_count": 13,
     "metadata": {},
     "output_type": "execute_result"
    }
   ],
   "source": [
    "#check Author column\n",
    "okada.author"
   ]
  },
  {
   "cell_type": "code",
   "execution_count": 14,
   "id": "67d426c4",
   "metadata": {
    "scrolled": false
   },
   "outputs": [
    {
     "name": "stderr",
     "output_type": "stream",
     "text": [
      "C:\\Users\\CC\\AppData\\Local\\Temp\\ipykernel_5312\\558095190.py:3: SettingWithCopyWarning: \n",
      "A value is trying to be set on a copy of a slice from a DataFrame.\n",
      "Try using .loc[row_indexer,col_indexer] = value instead\n",
      "\n",
      "See the caveats in the documentation: https://pandas.pydata.org/pandas-docs/stable/user_guide/indexing.html#returning-a-view-versus-a-copy\n",
      "  okada['rating']=okada['ratings']\n",
      "C:\\Users\\CC\\AppData\\Local\\Temp\\ipykernel_5312\\558095190.py:5: SettingWithCopyWarning: \n",
      "A value is trying to be set on a copy of a slice from a DataFrame.\n",
      "Try using .loc[row_indexer,col_indexer] = value instead\n",
      "\n",
      "See the caveats in the documentation: https://pandas.pydata.org/pandas-docs/stable/user_guide/indexing.html#returning-a-view-versus-a-copy\n",
      "  okada['rating']=pd.cut(okada.rating, bins=5, right=False, labels=['0-1','1-2','2-3','3-4','4-5'])\n"
     ]
    },
    {
     "data": {
      "image/png": "[encoded data removed]",
      "text/plain": [
       "<Figure size 576x360 with 1 Axes>"
      ]
     },
     "metadata": {
      "needs_background": "light"
     },
     "output_type": "display_data"
    }
   ],
   "source": [
    "# the count of ratings of the top books\n",
    "plt.figure(figsize = [8, 5])\n",
    "okada['rating']=okada['ratings']\n",
    "okada.loc[0, 'rating'] = np.nan\n",
    "okada['rating']=pd.cut(okada.rating, bins=5, right=False, labels=['0-1','1-2','2-3','3-4','4-5'])\n",
    "order = okada.rating.value_counts().index\n",
    "sb.countplot(data=okada, x='rating', order=order);\n",
    "plt.yscale(\"log\")\n",
    "#y_ticks=[1,50,200,500,550]\n",
    "plt.yticks(np.arange(1,500+50,50));\n",
    "#plt.yticks(y_ticks,y_ticks)\n",
    "#plt.yticks(np.arange(50,500+50,50));"
   ]
  },
  {
   "cell_type": "code",
   "execution_count": 15,
   "id": "d01e4b6c",
   "metadata": {},
   "outputs": [
    {
     "name": "stderr",
     "output_type": "stream",
     "text": [
      "C:\\Users\\CC\\AppData\\Local\\Temp\\ipykernel_5312\\1116755878.py:2: SettingWithCopyWarning: \n",
      "A value is trying to be set on a copy of a slice from a DataFrame.\n",
      "Try using .loc[row_indexer,col_indexer] = value instead\n",
      "\n",
      "See the caveats in the documentation: https://pandas.pydata.org/pandas-docs/stable/user_guide/indexing.html#returning-a-view-versus-a-copy\n",
      "  okada['rating']=okada['ratings']\n",
      "C:\\Users\\CC\\AppData\\Local\\Temp\\ipykernel_5312\\1116755878.py:4: SettingWithCopyWarning: \n",
      "A value is trying to be set on a copy of a slice from a DataFrame.\n",
      "Try using .loc[row_indexer,col_indexer] = value instead\n",
      "\n",
      "See the caveats in the documentation: https://pandas.pydata.org/pandas-docs/stable/user_guide/indexing.html#returning-a-view-versus-a-copy\n",
      "  okada['rating']=pd.cut(okada.rating, bins=5, right=False, labels=['0-1','1-2','2-3','3-4','4-5'])\n"
     ]
    },
    {
     "data": {
      "image/png": "[encoded data removed]",
      "text/plain": [
       "<Figure size 576x360 with 1 Axes>"
      ]
     },
     "metadata": {
      "needs_background": "light"
     },
     "output_type": "display_data"
    }
   ],
   "source": [
    "plt.figure(figsize = [8, 5])\n",
    "okada['rating']=okada['ratings']\n",
    "okada.loc[0, 'rating'] = np.nan\n",
    "okada['rating']=pd.cut(okada.rating, bins=5, right=False, labels=['0-1','1-2','2-3','3-4','4-5'])\n",
    "order = okada.rating.value_counts().index\n",
    "sb.countplot(data=okada, x='rating', order=order);\n",
    "plt.yscale(\"log\")\n",
    "y_ticks=[1,50,200,600]\n",
    "#plt.yticks(np.arange(1,500+50,50));\n",
    "plt.yticks(y_ticks,y_ticks);\n",
    "#plt.yticks(np.arange(50,500+50,50));"
   ]
  },
  {
   "cell_type": "code",
   "execution_count": 16,
   "id": "a0d32ded",
   "metadata": {},
   "outputs": [
    {
     "data": {
      "text/plain": [
       "'SPIRITUAL O.T'"
      ]
     },
     "execution_count": 16,
     "metadata": {},
     "output_type": "execute_result"
    }
   ],
   "source": [
    "#check for an all uppercase name in author\n",
    "okada.loc[46,'author']"
   ]
  },
  {
   "cell_type": "code",
   "execution_count": 17,
   "id": "f300e5e8",
   "metadata": {},
   "outputs": [
    {
     "name": "stderr",
     "output_type": "stream",
     "text": [
      "C:\\Users\\CC\\AppData\\Local\\Temp\\ipykernel_5312\\1237321552.py:2: SettingWithCopyWarning: \n",
      "A value is trying to be set on a copy of a slice from a DataFrame.\n",
      "Try using .loc[row_indexer,col_indexer] = value instead\n",
      "\n",
      "See the caveats in the documentation: https://pandas.pydata.org/pandas-docs/stable/user_guide/indexing.html#returning-a-view-versus-a-copy\n",
      "  okada.author = okada['author'].str.upper().str.title()\n"
     ]
    }
   ],
   "source": [
    "# Set all author names to Title Sentence case\n",
    "okada.author = okada['author'].str.upper().str.title()"
   ]
  },
  {
   "cell_type": "code",
   "execution_count": 18,
   "id": "e56835e2",
   "metadata": {},
   "outputs": [
    {
     "data": {
      "text/plain": [
       "'Spiritual O.T'"
      ]
     },
     "execution_count": 18,
     "metadata": {},
     "output_type": "execute_result"
    }
   ],
   "source": [
    "#test the code\n",
    "okada.loc[46,'author']"
   ]
  },
  {
   "cell_type": "code",
   "execution_count": 19,
   "id": "c9e09c83",
   "metadata": {},
   "outputs": [
    {
     "data": {
      "text/plain": [
       "'ATTRACT INSTANT MONEY AND FAVOUR WITH COCONUT by... | OkadaBooks'"
      ]
     },
     "execution_count": 19,
     "metadata": {},
     "output_type": "execute_result"
    }
   ],
   "source": [
    "#check the title column\n",
    "okada.loc[46,'title']"
   ]
  },
  {
   "cell_type": "code",
   "execution_count": 20,
   "id": "a19c2c6c",
   "metadata": {},
   "outputs": [
    {
     "name": "stderr",
     "output_type": "stream",
     "text": [
      "C:\\Users\\CC\\AppData\\Local\\Temp\\ipykernel_5312\\3033872136.py:2: SettingWithCopyWarning: \n",
      "A value is trying to be set on a copy of a slice from a DataFrame.\n",
      "Try using .loc[row_indexer,col_indexer] = value instead\n",
      "\n",
      "See the caveats in the documentation: https://pandas.pydata.org/pandas-docs/stable/user_guide/indexing.html#returning-a-view-versus-a-copy\n",
      "  okada.title = okada['title'].str.upper().str.title()\n"
     ]
    }
   ],
   "source": [
    "#convert title column to title case\n",
    "okada.title = okada['title'].str.upper().str.title()"
   ]
  },
  {
   "cell_type": "code",
   "execution_count": 21,
   "id": "24d8d964",
   "metadata": {
    "scrolled": true
   },
   "outputs": [
    {
     "data": {
      "text/plain": [
       "'Attract Instant Money And Favour With Coconut By... | Okadabooks'"
      ]
     },
     "execution_count": 21,
     "metadata": {},
     "output_type": "execute_result"
    }
   ],
   "source": [
    "#test the code\n",
    "okada.loc[46,'title']"
   ]
  },
  {
   "cell_type": "code",
   "execution_count": 22,
   "id": "b434546f",
   "metadata": {},
   "outputs": [
    {
     "name": "stderr",
     "output_type": "stream",
     "text": [
      "C:\\Users\\CC\\AppData\\Local\\Temp\\ipykernel_5312\\3484666317.py:2: SettingWithCopyWarning: \n",
      "A value is trying to be set on a copy of a slice from a DataFrame.\n",
      "Try using .loc[row_indexer,col_indexer] = value instead\n",
      "\n",
      "See the caveats in the documentation: https://pandas.pydata.org/pandas-docs/stable/user_guide/indexing.html#returning-a-view-versus-a-copy\n",
      "  okada['title']=okada['title'].str.split(' By', n=1, expand=True)[0]\n"
     ]
    }
   ],
   "source": [
    "#split the title columns by cutting off from the 'By' string\n",
    "okada['title']=okada['title'].str.split(' By', n=1, expand=True)[0]"
   ]
  },
  {
   "cell_type": "code",
   "execution_count": 23,
   "id": "435db73f",
   "metadata": {},
   "outputs": [
    {
     "data": {
      "text/plain": [
       "'Attract Instant Money And Favour With Coconut'"
      ]
     },
     "execution_count": 23,
     "metadata": {},
     "output_type": "execute_result"
    }
   ],
   "source": [
    "#test data\n",
    "okada.loc[46, 'title']"
   ]
  },
  {
   "cell_type": "code",
   "execution_count": 24,
   "id": "c93860dd",
   "metadata": {},
   "outputs": [
    {
     "data": {
      "text/html": [
       "<div>\n",
       "<style scoped>\n",
       "    .dataframe tbody tr th:only-of-type {\n",
       "        vertical-align: middle;\n",
       "    }\n",
       "\n",
       "    .dataframe tbody tr th {\n",
       "        vertical-align: top;\n",
       "    }\n",
       "\n",
       "    .dataframe thead th {\n",
       "        text-align: right;\n",
       "    }\n",
       "</style>\n",
       "<table border=\"1\" class=\"dataframe\">\n",
       "  <thead>\n",
       "    <tr style=\"text-align: right;\">\n",
       "      <th></th>\n",
       "      <th>indexes</th>\n",
       "      <th>title</th>\n",
       "      <th>author</th>\n",
       "      <th>ratings</th>\n",
       "      <th>prices</th>\n",
       "      <th>download_count</th>\n",
       "      <th>site</th>\n",
       "      <th>rating</th>\n",
       "    </tr>\n",
       "  </thead>\n",
       "  <tbody>\n",
       "    <tr>\n",
       "      <th>0</th>\n",
       "      <td>#1</td>\n",
       "      <td>Running On Waters</td>\n",
       "      <td>Esther Nnabuife</td>\n",
       "      <td>4.73</td>\n",
       "      <td>₦1000.00</td>\n",
       "      <td>32</td>\n",
       "      <td>https://okadabooks.com/book/about/running_on_w...</td>\n",
       "      <td>NaN</td>\n",
       "    </tr>\n",
       "    <tr>\n",
       "      <th>1</th>\n",
       "      <td>#2</td>\n",
       "      <td>Can I Be Your Mrs?</td>\n",
       "      <td>Aishatuh M</td>\n",
       "      <td>0.00</td>\n",
       "      <td>₦1500.00</td>\n",
       "      <td>16</td>\n",
       "      <td>https://okadabooks.com/book/about/can_i_be_you...</td>\n",
       "      <td>0-1</td>\n",
       "    </tr>\n",
       "    <tr>\n",
       "      <th>2</th>\n",
       "      <td>#3</td>\n",
       "      <td>Purpose In Crisis: Uncommon Secrets To Finding...</td>\n",
       "      <td>Dr Samuel Ekundayo</td>\n",
       "      <td>5.00</td>\n",
       "      <td>₦1500.00</td>\n",
       "      <td>84</td>\n",
       "      <td>https://okadabooks.com/book/about/purpose_in_c...</td>\n",
       "      <td>4-5</td>\n",
       "    </tr>\n",
       "    <tr>\n",
       "      <th>3</th>\n",
       "      <td>#4</td>\n",
       "      <td>Magajin Wilbafos Book 7: Chapter 725-729 (Fome...</td>\n",
       "      <td>Abdullahi Muhammad</td>\n",
       "      <td>4.00</td>\n",
       "      <td>₦200.00</td>\n",
       "      <td>16</td>\n",
       "      <td>https://okadabooks.com/book/about/magajin_wilb...</td>\n",
       "      <td>4-5</td>\n",
       "    </tr>\n",
       "    <tr>\n",
       "      <th>4</th>\n",
       "      <td>#5</td>\n",
       "      <td>Simi'S Return: A J-Town Romance</td>\n",
       "      <td>Sharon Df</td>\n",
       "      <td>2.50</td>\n",
       "      <td>₦100.00</td>\n",
       "      <td>53</td>\n",
       "      <td>https://okadabooks.com/book/about/simi_s_retur...</td>\n",
       "      <td>2-3</td>\n",
       "    </tr>\n",
       "    <tr>\n",
       "      <th>...</th>\n",
       "      <td>...</td>\n",
       "      <td>...</td>\n",
       "      <td>...</td>\n",
       "      <td>...</td>\n",
       "      <td>...</td>\n",
       "      <td>...</td>\n",
       "      <td>...</td>\n",
       "      <td>...</td>\n",
       "    </tr>\n",
       "    <tr>\n",
       "      <th>95</th>\n",
       "      <td>#96</td>\n",
       "      <td>Stuck In A Nightmare</td>\n",
       "      <td>Joshua Orioko</td>\n",
       "      <td>4.25</td>\n",
       "      <td>₦800.00</td>\n",
       "      <td>9</td>\n",
       "      <td>https://okadabooks.com/book/about/stuck_in_a_n...</td>\n",
       "      <td>4-5</td>\n",
       "    </tr>\n",
       "    <tr>\n",
       "      <th>96</th>\n",
       "      <td>#97</td>\n",
       "      <td>God, Michael And Me</td>\n",
       "      <td>Rosemary Okafor</td>\n",
       "      <td>5.00</td>\n",
       "      <td>₦800.00</td>\n",
       "      <td>27</td>\n",
       "      <td>https://okadabooks.com/book/about/god_michael_...</td>\n",
       "      <td>4-5</td>\n",
       "    </tr>\n",
       "    <tr>\n",
       "      <th>97</th>\n",
       "      <td>#98</td>\n",
       "      <td>How To Know If/She Really Loves You</td>\n",
       "      <td>Kingsley Okonkwo</td>\n",
       "      <td>5.00</td>\n",
       "      <td>₦3500.00</td>\n",
       "      <td>9</td>\n",
       "      <td>https://okadabooks.com/book/about/how_to_know_...</td>\n",
       "      <td>4-5</td>\n",
       "    </tr>\n",
       "    <tr>\n",
       "      <th>98</th>\n",
       "      <td>#99</td>\n",
       "      <td>Na Huce 1</td>\n",
       "      <td>Sumayya Abdulkadir</td>\n",
       "      <td>5.00</td>\n",
       "      <td>₦500.00</td>\n",
       "      <td>55</td>\n",
       "      <td>https://okadabooks.com/book/about/na_huce_1/48401</td>\n",
       "      <td>4-5</td>\n",
       "    </tr>\n",
       "    <tr>\n",
       "      <th>99</th>\n",
       "      <td>#100</td>\n",
       "      <td>Na Huce 2</td>\n",
       "      <td>Sumayya Abdulkadir</td>\n",
       "      <td>4.00</td>\n",
       "      <td>₦500.00</td>\n",
       "      <td>45</td>\n",
       "      <td>https://okadabooks.com/book/about/na_huce_2/48402</td>\n",
       "      <td>4-5</td>\n",
       "    </tr>\n",
       "  </tbody>\n",
       "</table>\n",
       "<p>100 rows × 8 columns</p>\n",
       "</div>"
      ],
      "text/plain": [
       "   indexes                                              title  \\\n",
       "0       #1                                  Running On Waters   \n",
       "1       #2                                 Can I Be Your Mrs?   \n",
       "2       #3  Purpose In Crisis: Uncommon Secrets To Finding...   \n",
       "3       #4  Magajin Wilbafos Book 7: Chapter 725-729 (Fome...   \n",
       "4       #5                    Simi'S Return: A J-Town Romance   \n",
       "..     ...                                                ...   \n",
       "95     #96                               Stuck In A Nightmare   \n",
       "96     #97                                God, Michael And Me   \n",
       "97     #98                How To Know If/She Really Loves You   \n",
       "98     #99                                          Na Huce 1   \n",
       "99    #100                                          Na Huce 2   \n",
       "\n",
       "                author  ratings    prices  download_count  \\\n",
       "0      Esther Nnabuife     4.73  ₦1000.00              32   \n",
       "1           Aishatuh M     0.00  ₦1500.00              16   \n",
       "2   Dr Samuel Ekundayo     5.00  ₦1500.00              84   \n",
       "3   Abdullahi Muhammad     4.00   ₦200.00              16   \n",
       "4            Sharon Df     2.50   ₦100.00              53   \n",
       "..                 ...      ...       ...             ...   \n",
       "95       Joshua Orioko     4.25   ₦800.00               9   \n",
       "96     Rosemary Okafor     5.00   ₦800.00              27   \n",
       "97    Kingsley Okonkwo     5.00  ₦3500.00               9   \n",
       "98  Sumayya Abdulkadir     5.00   ₦500.00              55   \n",
       "99  Sumayya Abdulkadir     4.00   ₦500.00              45   \n",
       "\n",
       "                                                 site rating  \n",
       "0   https://okadabooks.com/book/about/running_on_w...    NaN  \n",
       "1   https://okadabooks.com/book/about/can_i_be_you...    0-1  \n",
       "2   https://okadabooks.com/book/about/purpose_in_c...    4-5  \n",
       "3   https://okadabooks.com/book/about/magajin_wilb...    4-5  \n",
       "4   https://okadabooks.com/book/about/simi_s_retur...    2-3  \n",
       "..                                                ...    ...  \n",
       "95  https://okadabooks.com/book/about/stuck_in_a_n...    4-5  \n",
       "96  https://okadabooks.com/book/about/god_michael_...    4-5  \n",
       "97  https://okadabooks.com/book/about/how_to_know_...    4-5  \n",
       "98  https://okadabooks.com/book/about/na_huce_1/48401    4-5  \n",
       "99  https://okadabooks.com/book/about/na_huce_2/48402    4-5  \n",
       "\n",
       "[100 rows x 8 columns]"
      ]
     },
     "execution_count": 24,
     "metadata": {},
     "output_type": "execute_result"
    }
   ],
   "source": [
    "#check table\n",
    "okada"
   ]
  },
  {
   "cell_type": "code",
   "execution_count": 25,
   "id": "afec9b33",
   "metadata": {
    "scrolled": true
   },
   "outputs": [
    {
     "data": {
      "text/plain": [
       "'Hilwa'"
      ]
     },
     "execution_count": 25,
     "metadata": {},
     "output_type": "execute_result"
    }
   ],
   "source": [
    "#test the code\n",
    "okada.loc[45,'title']"
   ]
  },
  {
   "cell_type": "code",
   "execution_count": 26,
   "id": "2f805816",
   "metadata": {
    "scrolled": true
   },
   "outputs": [
    {
     "name": "stderr",
     "output_type": "stream",
     "text": [
      "C:\\Users\\CC\\AppData\\Local\\Temp\\ipykernel_5312\\3160800292.py:3: SettingWithCopyWarning: \n",
      "A value is trying to be set on a copy of a slice from a DataFrame.\n",
      "Try using .loc[row_indexer,col_indexer] = value instead\n",
      "\n",
      "See the caveats in the documentation: https://pandas.pydata.org/pandas-docs/stable/user_guide/indexing.html#returning-a-view-versus-a-copy\n",
      "  okada['prices']=okada['prices'].str.split('.', n=1, expand=True)[0]\n"
     ]
    }
   ],
   "source": [
    "# remove the decimals from prices\n",
    "#split the title columns by cutting off from the 'By' string\n",
    "okada['prices']=okada['prices'].str.split('.', n=1, expand=True)[0]"
   ]
  },
  {
   "cell_type": "code",
   "execution_count": 28,
   "id": "0918892b",
   "metadata": {},
   "outputs": [],
   "source": [
    "#write the clean dataframe to csv file\n",
    "okada.to_csv('okada100.csv', index=True, encoding='utf-8')"
   ]
  }
 ],
 "metadata": {
  "kernelspec": {
   "display_name": "Python 3 (ipykernel)",
   "language": "python",
   "name": "python3"
  },
  "language_info": {
   "codemirror_mode": {
    "name": "ipython",
    "version": 3
   },
   "file_extension": ".py",
   "mimetype": "text/x-python",
   "name": "python",
   "nbconvert_exporter": "python",
   "pygments_lexer": "ipython3",
   "version": "3.9.12"
  }
 },
 "nbformat": 4,
 "nbformat_minor": 5
}
